{
 "cells": [
  {
   "cell_type": "code",
   "execution_count": 1,
   "metadata": {},
   "outputs": [],
   "source": [
    "import pandas as pd\n",
    "import pickle"
   ]
  },
  {
   "cell_type": "code",
   "execution_count": 2,
   "metadata": {},
   "outputs": [],
   "source": [
    "data_train = pd.read_csv('../data/processed/features_for_model.csv')\n",
    "data_test = pd.read_csv('../data/processed/test_dataset.csv')\n",
    "#data_train.head()"
   ]
  },
  {
   "cell_type": "code",
   "execution_count": 3,
   "metadata": {},
   "outputs": [],
   "source": [
    "x_features = data_train.drop(['NObeyesdad'], axis=1)\n",
    "y_target = data_train['NObeyesdad']\n",
    "\n",
    "x_features_test = data_test.drop(['NObeyesdad'], axis=1)\n",
    "y_target_test = data_test['NObeyesdad']"
   ]
  },
  {
   "cell_type": "code",
   "execution_count": 4,
   "metadata": {},
   "outputs": [],
   "source": [
    "from sklearn.metrics import accuracy_score\n",
    "from sklearn.linear_model import LogisticRegression\n",
    "from sklearn.naive_bayes import MultinomialNB \n",
    "from sklearn.ensemble import RandomForestClassifier \n",
    "from sklearn.discriminant_analysis import LinearDiscriminantAnalysis\n",
    "from sklearn.svm import SVC "
   ]
  },
  {
   "cell_type": "markdown",
   "metadata": {},
   "source": [
    "### Leemos el Pipeline pre-configurado"
   ]
  },
  {
   "cell_type": "code",
   "execution_count": 5,
   "metadata": {},
   "outputs": [],
   "source": [
    "with open('../artifacts/pipeline.pkl', 'rb') as  f:\n",
    "    obesity_predict_model_pipeline = pickle.load(f)"
   ]
  },
  {
   "cell_type": "code",
   "execution_count": 6,
   "metadata": {},
   "outputs": [
    {
     "data": {
      "text/html": [
       "<div>\n",
       "<style scoped>\n",
       "    .dataframe tbody tr th:only-of-type {\n",
       "        vertical-align: middle;\n",
       "    }\n",
       "\n",
       "    .dataframe tbody tr th {\n",
       "        vertical-align: top;\n",
       "    }\n",
       "\n",
       "    .dataframe thead th {\n",
       "        text-align: right;\n",
       "    }\n",
       "</style>\n",
       "<table border=\"1\" class=\"dataframe\">\n",
       "  <thead>\n",
       "    <tr style=\"text-align: right;\">\n",
       "      <th></th>\n",
       "      <th>Age</th>\n",
       "      <th>Gender</th>\n",
       "      <th>Height</th>\n",
       "      <th>Weight</th>\n",
       "      <th>CALC</th>\n",
       "      <th>FAVC</th>\n",
       "      <th>FCVC</th>\n",
       "      <th>NCP</th>\n",
       "      <th>SCC</th>\n",
       "      <th>SMOKE</th>\n",
       "      <th>CH2O</th>\n",
       "      <th>family_history_with_overweight</th>\n",
       "      <th>FAF</th>\n",
       "      <th>TUE</th>\n",
       "      <th>CAEC</th>\n",
       "      <th>MTRANS</th>\n",
       "    </tr>\n",
       "  </thead>\n",
       "  <tbody>\n",
       "    <tr>\n",
       "      <th>0</th>\n",
       "      <td>0.274274</td>\n",
       "      <td>1.0</td>\n",
       "      <td>0.497177</td>\n",
       "      <td>0.581543</td>\n",
       "      <td>0.45</td>\n",
       "      <td>1.0</td>\n",
       "      <td>0.943195</td>\n",
       "      <td>0.795378</td>\n",
       "      <td>1.0</td>\n",
       "      <td>1.0</td>\n",
       "      <td>0.626939</td>\n",
       "      <td>1.0</td>\n",
       "      <td>0.333931</td>\n",
       "      <td>0.000000</td>\n",
       "      <td>1.000000</td>\n",
       "      <td>1.000000</td>\n",
       "    </tr>\n",
       "    <tr>\n",
       "      <th>1</th>\n",
       "      <td>0.474491</td>\n",
       "      <td>1.0</td>\n",
       "      <td>0.676449</td>\n",
       "      <td>0.699339</td>\n",
       "      <td>1.00</td>\n",
       "      <td>1.0</td>\n",
       "      <td>0.830679</td>\n",
       "      <td>0.883565</td>\n",
       "      <td>1.0</td>\n",
       "      <td>1.0</td>\n",
       "      <td>0.888633</td>\n",
       "      <td>1.0</td>\n",
       "      <td>0.037485</td>\n",
       "      <td>0.378169</td>\n",
       "      <td>1.000000</td>\n",
       "      <td>1.000000</td>\n",
       "    </tr>\n",
       "    <tr>\n",
       "      <th>2</th>\n",
       "      <td>0.442507</td>\n",
       "      <td>1.0</td>\n",
       "      <td>0.414761</td>\n",
       "      <td>0.296585</td>\n",
       "      <td>1.00</td>\n",
       "      <td>0.0</td>\n",
       "      <td>1.000000</td>\n",
       "      <td>0.000000</td>\n",
       "      <td>1.0</td>\n",
       "      <td>1.0</td>\n",
       "      <td>0.000000</td>\n",
       "      <td>0.0</td>\n",
       "      <td>0.000000</td>\n",
       "      <td>0.000000</td>\n",
       "      <td>0.107973</td>\n",
       "      <td>0.000000</td>\n",
       "    </tr>\n",
       "    <tr>\n",
       "      <th>3</th>\n",
       "      <td>0.211893</td>\n",
       "      <td>1.0</td>\n",
       "      <td>0.510587</td>\n",
       "      <td>0.405103</td>\n",
       "      <td>1.00</td>\n",
       "      <td>1.0</td>\n",
       "      <td>1.000000</td>\n",
       "      <td>0.883565</td>\n",
       "      <td>1.0</td>\n",
       "      <td>1.0</td>\n",
       "      <td>0.630930</td>\n",
       "      <td>1.0</td>\n",
       "      <td>0.000000</td>\n",
       "      <td>1.000000</td>\n",
       "      <td>1.000000</td>\n",
       "      <td>0.031056</td>\n",
       "    </tr>\n",
       "    <tr>\n",
       "      <th>4</th>\n",
       "      <td>0.280731</td>\n",
       "      <td>0.0</td>\n",
       "      <td>0.320254</td>\n",
       "      <td>0.520022</td>\n",
       "      <td>0.45</td>\n",
       "      <td>1.0</td>\n",
       "      <td>0.765889</td>\n",
       "      <td>0.883565</td>\n",
       "      <td>1.0</td>\n",
       "      <td>1.0</td>\n",
       "      <td>0.092664</td>\n",
       "      <td>1.0</td>\n",
       "      <td>0.230708</td>\n",
       "      <td>0.152010</td>\n",
       "      <td>1.000000</td>\n",
       "      <td>1.000000</td>\n",
       "    </tr>\n",
       "  </tbody>\n",
       "</table>\n",
       "</div>"
      ],
      "text/plain": [
       "        Age  Gender    Height    Weight  CALC  FAVC      FCVC       NCP  SCC  \\\n",
       "0  0.274274     1.0  0.497177  0.581543  0.45   1.0  0.943195  0.795378  1.0   \n",
       "1  0.474491     1.0  0.676449  0.699339  1.00   1.0  0.830679  0.883565  1.0   \n",
       "2  0.442507     1.0  0.414761  0.296585  1.00   0.0  1.000000  0.000000  1.0   \n",
       "3  0.211893     1.0  0.510587  0.405103  1.00   1.0  1.000000  0.883565  1.0   \n",
       "4  0.280731     0.0  0.320254  0.520022  0.45   1.0  0.765889  0.883565  1.0   \n",
       "\n",
       "   SMOKE      CH2O  family_history_with_overweight       FAF       TUE  \\\n",
       "0    1.0  0.626939                             1.0  0.333931  0.000000   \n",
       "1    1.0  0.888633                             1.0  0.037485  0.378169   \n",
       "2    1.0  0.000000                             0.0  0.000000  0.000000   \n",
       "3    1.0  0.630930                             1.0  0.000000  1.000000   \n",
       "4    1.0  0.092664                             1.0  0.230708  0.152010   \n",
       "\n",
       "       CAEC    MTRANS  \n",
       "0  1.000000  1.000000  \n",
       "1  1.000000  1.000000  \n",
       "2  0.107973  0.000000  \n",
       "3  1.000000  0.031056  \n",
       "4  1.000000  1.000000  "
      ]
     },
     "execution_count": 6,
     "metadata": {},
     "output_type": "execute_result"
    }
   ],
   "source": [
    "x_features_test_arr = obesity_predict_model_pipeline.transform(x_features_test)\n",
    "df_features_test = pd.DataFrame(x_features_test_arr, columns=x_features_test.columns)\n",
    "df_features_test.head()"
   ]
  },
  {
   "cell_type": "markdown",
   "metadata": {},
   "source": [
    "Entrenamiento de Modelos"
   ]
  },
  {
   "cell_type": "code",
   "execution_count": 7,
   "metadata": {},
   "outputs": [],
   "source": [
    "import mlflow"
   ]
  },
  {
   "cell_type": "code",
   "execution_count": 8,
   "metadata": {},
   "outputs": [
    {
     "data": {
      "text/plain": [
       "<Experiment: artifact_location='mlflow-artifacts:/540558041363907411', creation_time=1734758363424, experiment_id='540558041363907411', last_update_time=1734758363424, lifecycle_stage='active', name='Obesity Predict Model 2', tags={}>"
      ]
     },
     "execution_count": 8,
     "metadata": {},
     "output_type": "execute_result"
    }
   ],
   "source": [
    "# configuración de servidor\n",
    "mlflow.set_tracking_uri(\"http://127.0.0.1:5000\")\n",
    "mlflow.set_experiment(\"Obesity Predict Model 2\")"
   ]
  },
  {
   "cell_type": "code",
   "execution_count": 9,
   "metadata": {},
   "outputs": [],
   "source": [
    "model_accuracies = {}"
   ]
  },
  {
   "cell_type": "code",
   "execution_count": 10,
   "metadata": {},
   "outputs": [
    {
     "name": "stderr",
     "output_type": "stream",
     "text": [
      "2024/12/20 23:26:57 WARNING mlflow.models.model: Model logged without a signature and input example. Please set `input_example` parameter when logging the model to auto infer the model signature.\n"
     ]
    },
    {
     "name": "stdout",
     "output_type": "stream",
     "text": [
      "🏃 View run Random Forest Model 1 at: http://127.0.0.1:5000/#/experiments/540558041363907411/runs/b4b297809d7b45349c849839619145b4\n",
      "🧪 View experiment at: http://127.0.0.1:5000/#/experiments/540558041363907411\n"
     ]
    }
   ],
   "source": [
    "with mlflow.start_run(run_name=\"Random Forest Model 1\"):\n",
    "    rf_model = RandomForestClassifier(n_estimators=200, criterion='gini').fit(x_features, y_target)\n",
    "    y_preds = rf_model.predict(df_features_test)\n",
    "    acc_rf = accuracy_score(y_target_test, y_preds)\n",
    "    params_vals = dict(n_estimators=200, criterion='gini')\n",
    "    model_accuracies[\"Random Forest Model 1\"] = acc_rf\n",
    "    mlflow.log_params(params_vals)\n",
    "    mlflow.log_metric(\"accuracy\", acc_rf)\n",
    "    mlflow.sklearn.log_model(rf_model, \"random_forest_model_1\")\n"
   ]
  },
  {
   "cell_type": "code",
   "execution_count": 11,
   "metadata": {},
   "outputs": [
    {
     "name": "stdout",
     "output_type": "stream",
     "text": [
      "0.9227129337539433\n"
     ]
    },
    {
     "name": "stderr",
     "output_type": "stream",
     "text": [
      "2024/12/20 23:27:06 WARNING mlflow.models.model: Model logged without a signature and input example. Please set `input_example` parameter when logging the model to auto infer the model signature.\n"
     ]
    },
    {
     "name": "stdout",
     "output_type": "stream",
     "text": [
      "🏃 View run Random Forest Model 2 at: http://127.0.0.1:5000/#/experiments/540558041363907411/runs/8cc7a48140fc42189c7775bc556da52a\n",
      "🧪 View experiment at: http://127.0.0.1:5000/#/experiments/540558041363907411\n"
     ]
    }
   ],
   "source": [
    "with mlflow.start_run(run_name=\"Random Forest Model 2\"):\n",
    "    rf_model_2 = RandomForestClassifier(n_estimators=100, criterion='entropy', max_depth=15, min_samples_split=10).fit(x_features, y_target)\n",
    "    y_preds_2 = rf_model_2.predict(df_features_test)\n",
    "    acc_rf_2 = accuracy_score(y_target_test, y_preds_2)\n",
    "    print(acc_rf_2)\n",
    "    params_vals_2 = dict(n_estimators=100, criterion='entropy', max_depth=15, min_samples_split=10)\n",
    "    model_accuracies[\"Random Forest Model 2\"] = acc_rf_2\n",
    "    mlflow.log_params(params_vals_2)\n",
    "    mlflow.log_metric(\"accuracy score Random Forest 2:\", acc_rf_2)\n",
    "    mlflow.sklearn.log_model(rf_model_2, \"Random Forest Classifier 2\")"
   ]
  },
  {
   "cell_type": "code",
   "execution_count": 12,
   "metadata": {},
   "outputs": [
    {
     "name": "stdout",
     "output_type": "stream",
     "text": [
      "0.9085173501577287\n"
     ]
    },
    {
     "name": "stderr",
     "output_type": "stream",
     "text": [
      "2024/12/20 23:27:14 WARNING mlflow.models.model: Model logged without a signature and input example. Please set `input_example` parameter when logging the model to auto infer the model signature.\n"
     ]
    },
    {
     "name": "stdout",
     "output_type": "stream",
     "text": [
      "🏃 View run Random Forest Model 3 at: http://127.0.0.1:5000/#/experiments/540558041363907411/runs/19b2aa63cd26480685fe817aebfd2b2f\n",
      "🧪 View experiment at: http://127.0.0.1:5000/#/experiments/540558041363907411\n"
     ]
    }
   ],
   "source": [
    "with mlflow.start_run(run_name=\"Random Forest Model 3\"):\n",
    "    rf_model_3 = RandomForestClassifier(n_estimators=150, criterion='gini', max_depth=None, min_samples_leaf=5).fit(x_features, y_target)\n",
    "    y_preds_3 = rf_model_3.predict(df_features_test)\n",
    "    acc_rf_3 = accuracy_score(y_target_test, y_preds_3)\n",
    "    print(acc_rf_3)\n",
    "    params_vals_3 = dict(n_estimators=150, criterion='gini', max_depth=None, min_samples_leaf=5)\n",
    "    model_accuracies[\"Random Forest Model 3\"] = acc_rf_3\n",
    "    mlflow.log_params(params_vals_3)\n",
    "    mlflow.log_metric(\"accuracy score Random Forest 3:\", acc_rf_3)\n",
    "    mlflow.sklearn.log_model(rf_model_3, \"Random Forest Classifier 3\")"
   ]
  },
  {
   "cell_type": "code",
   "execution_count": 13,
   "metadata": {},
   "outputs": [
    {
     "name": "stdout",
     "output_type": "stream",
     "text": [
      "0.8675078864353313\n"
     ]
    },
    {
     "name": "stderr",
     "output_type": "stream",
     "text": [
      "2024/12/20 23:27:19 WARNING mlflow.models.model: Model logged without a signature and input example. Please set `input_example` parameter when logging the model to auto infer the model signature.\n"
     ]
    },
    {
     "name": "stdout",
     "output_type": "stream",
     "text": [
      "🏃 View run SVM 1 at: http://127.0.0.1:5000/#/experiments/540558041363907411/runs/77215771e0fb4680be36376bc3776d01\n",
      "🧪 View experiment at: http://127.0.0.1:5000/#/experiments/540558041363907411\n"
     ]
    }
   ],
   "source": [
    "with mlflow.start_run(run_name=\"SVM 1\"):\n",
    "    svm_model = SVC(C=1.0, kernel='linear').fit(x_features, y_target)\n",
    "    y_preds_4 = svm_model.predict(df_features_test)\n",
    "    acc_svm = accuracy_score(y_target_test, y_preds_4)\n",
    "    print(acc_svm)\n",
    "    params_vals_4 = dict(C=1.0, kernel='linear')\n",
    "    model_accuracies[\"SVM 1\"] = acc_svm\n",
    "    mlflow.log_params(params_vals_4)\n",
    "    mlflow.log_metric(\"accuracy score SVM 1:\", acc_svm)\n",
    "    mlflow.sklearn.log_model(svm_model, \"SVM 1\")"
   ]
  },
  {
   "cell_type": "code",
   "execution_count": 14,
   "metadata": {},
   "outputs": [
    {
     "name": "stdout",
     "output_type": "stream",
     "text": [
      "0.9037854889589906\n"
     ]
    },
    {
     "name": "stderr",
     "output_type": "stream",
     "text": [
      "2024/12/20 23:27:26 WARNING mlflow.models.model: Model logged without a signature and input example. Please set `input_example` parameter when logging the model to auto infer the model signature.\n"
     ]
    },
    {
     "name": "stdout",
     "output_type": "stream",
     "text": [
      "🏃 View run SVM 2 at: http://127.0.0.1:5000/#/experiments/540558041363907411/runs/1fab009eea8b43eeb33ac46473b9eebe\n",
      "🧪 View experiment at: http://127.0.0.1:5000/#/experiments/540558041363907411\n"
     ]
    }
   ],
   "source": [
    "with mlflow.start_run(run_name=\"SVM 2\"):\n",
    "    svm_model_2 = SVC(C=1.0, kernel='poly', degree=3, gamma='scale').fit(x_features, y_target)\n",
    "    y_preds_5 = svm_model_2.predict(df_features_test)\n",
    "    acc_svm_2 = accuracy_score(y_target_test, y_preds_5)\n",
    "    print(acc_svm_2)\n",
    "    params_vals_5 = dict(C=1.0, kernel='poly', degree=3, gamma='scale')\n",
    "    model_accuracies[\"SVM 2\"] = acc_svm_2\n",
    "    mlflow.log_params(params_vals_5)\n",
    "    mlflow.log_metric(\"accuracy score SVM 2:\", acc_svm_2)\n",
    "    mlflow.sklearn.log_model(svm_model_2, \"SVM 2\")"
   ]
  },
  {
   "cell_type": "code",
   "execution_count": 15,
   "metadata": {},
   "outputs": [
    {
     "name": "stdout",
     "output_type": "stream",
     "text": [
      "0.831230283911672\n"
     ]
    },
    {
     "name": "stderr",
     "output_type": "stream",
     "text": [
      "2024/12/20 23:27:31 WARNING mlflow.models.model: Model logged without a signature and input example. Please set `input_example` parameter when logging the model to auto infer the model signature.\n"
     ]
    },
    {
     "name": "stdout",
     "output_type": "stream",
     "text": [
      "🏃 View run SVM 3 at: http://127.0.0.1:5000/#/experiments/540558041363907411/runs/ff9bb72299fb48939d54df05a8a101c9\n",
      "🧪 View experiment at: http://127.0.0.1:5000/#/experiments/540558041363907411\n"
     ]
    }
   ],
   "source": [
    "with mlflow.start_run(run_name=\"SVM 3\"):\n",
    "    svm_model_3 = SVC(C=1.0, kernel='rbf', gamma='scale').fit(x_features, y_target)\n",
    "    y_preds_6 = svm_model_3.predict(df_features_test)\n",
    "    acc_svm_3 = accuracy_score(y_target_test, y_preds_6)\n",
    "    print(acc_svm_3)\n",
    "    params_vals_6 = dict(C=1.0, kernel='rbf', gamma='scale')\n",
    "    model_accuracies[\"SVM 3\"] = acc_svm_3\n",
    "    mlflow.log_params(params_vals_6)\n",
    "    mlflow.log_metric(\"accuracy score SVM 3:\", acc_svm_3)\n",
    "    mlflow.sklearn.log_model(svm_model_3, \"SVM 3\")"
   ]
  },
  {
   "cell_type": "code",
   "execution_count": 16,
   "metadata": {},
   "outputs": [
    {
     "name": "stderr",
     "output_type": "stream",
     "text": [
      "/Users/macbookair/anaconda3/envs/venv-bank-churning/lib/python3.13/site-packages/sklearn/linear_model/_logistic.py:469: ConvergenceWarning: lbfgs failed to converge (status=1):\n",
      "STOP: TOTAL NO. of ITERATIONS REACHED LIMIT.\n",
      "\n",
      "Increase the number of iterations (max_iter) or scale the data as shown in:\n",
      "    https://scikit-learn.org/stable/modules/preprocessing.html\n",
      "Please also refer to the documentation for alternative solver options:\n",
      "    https://scikit-learn.org/stable/modules/linear_model.html#logistic-regression\n",
      "  n_iter_i = _check_optimize_result(\n"
     ]
    },
    {
     "name": "stdout",
     "output_type": "stream",
     "text": [
      "0.7555205047318612\n"
     ]
    },
    {
     "name": "stderr",
     "output_type": "stream",
     "text": [
      "2024/12/20 23:27:38 WARNING mlflow.models.model: Model logged without a signature and input example. Please set `input_example` parameter when logging the model to auto infer the model signature.\n"
     ]
    },
    {
     "name": "stdout",
     "output_type": "stream",
     "text": [
      "🏃 View run Regresion Logistica 1 at: http://127.0.0.1:5000/#/experiments/540558041363907411/runs/c0fb206c002b445a849acff09a53b101\n",
      "🧪 View experiment at: http://127.0.0.1:5000/#/experiments/540558041363907411\n"
     ]
    }
   ],
   "source": [
    "with mlflow.start_run(run_name=\"Regresion Logistica 1\"):\n",
    "    lr_model = LogisticRegression().fit(x_features, y_target)\n",
    "    y_preds_lr = lr_model.predict(df_features_test)\n",
    "    acc_lr = accuracy_score(y_target_test, y_preds_lr)\n",
    "    print(acc_lr)\n",
    "    params_lr = dict(penalty_lr='l2', tol_lr=0.0001, C_lr=1.0)\n",
    "    model_accuracies[\"Regresion Logistica 1\"] = acc_lr\n",
    "    mlflow.log_params(params_lr)\n",
    "    mlflow.log_metric(\"accuracy score - Regresion Logistica 1:\", acc_lr)\n",
    "    mlflow.sklearn.log_model(lr_model, \"Logistic Regression\")"
   ]
  },
  {
   "cell_type": "code",
   "execution_count": 17,
   "metadata": {},
   "outputs": [
    {
     "name": "stderr",
     "output_type": "stream",
     "text": [
      "/Users/macbookair/anaconda3/envs/venv-bank-churning/lib/python3.13/site-packages/sklearn/linear_model/_logistic.py:1247: FutureWarning: 'multi_class' was deprecated in version 1.5 and will be removed in 1.7. From then on, it will always use 'multinomial'. Leave it to its default value to avoid this warning.\n",
      "  warnings.warn(\n"
     ]
    },
    {
     "name": "stdout",
     "output_type": "stream",
     "text": [
      "0.7618296529968455\n"
     ]
    },
    {
     "name": "stderr",
     "output_type": "stream",
     "text": [
      "2024/12/20 23:27:44 WARNING mlflow.models.model: Model logged without a signature and input example. Please set `input_example` parameter when logging the model to auto infer the model signature.\n"
     ]
    },
    {
     "name": "stdout",
     "output_type": "stream",
     "text": [
      "🏃 View run Regresion Logistica 2 at: http://127.0.0.1:5000/#/experiments/540558041363907411/runs/57636547b7af4806b6feb2f6f3beda6f\n",
      "🧪 View experiment at: http://127.0.0.1:5000/#/experiments/540558041363907411\n"
     ]
    }
   ],
   "source": [
    "with mlflow.start_run(run_name=\"Regresion Logistica 2\"):\n",
    "    lr_model_2 = LogisticRegression(penalty='l2', C=1.0, solver='lbfgs', max_iter=1000, multi_class='multinomial').fit(x_features, y_target)\n",
    "    y_preds_lr_2 = lr_model_2.predict(df_features_test)\n",
    "    acc_lr_2 = accuracy_score(y_target_test, y_preds_lr_2)\n",
    "    print(acc_lr_2)\n",
    "    params_lr_2 = dict(penalty='l2', C=1.0, solver='lbfgs', max_iter=1000, multi_class='multinomial')\n",
    "    model_accuracies[\"Regresion Logistica 2\"] = acc_lr_2\n",
    "    mlflow.log_params(params_lr_2)\n",
    "    mlflow.log_metric(\"accuracy score - Regresion Logistica 2:\", acc_lr_2)\n",
    "    mlflow.sklearn.log_model(lr_model_2, \"Logistic Regression 2\")"
   ]
  },
  {
   "cell_type": "code",
   "execution_count": 18,
   "metadata": {},
   "outputs": [
    {
     "name": "stderr",
     "output_type": "stream",
     "text": [
      "/Users/macbookair/anaconda3/envs/venv-bank-churning/lib/python3.13/site-packages/sklearn/linear_model/_logistic.py:1247: FutureWarning: 'multi_class' was deprecated in version 1.5 and will be removed in 1.7. From then on, it will always use 'multinomial'. Leave it to its default value to avoid this warning.\n",
      "  warnings.warn(\n"
     ]
    },
    {
     "name": "stdout",
     "output_type": "stream",
     "text": [
      "0.8548895899053628\n"
     ]
    },
    {
     "name": "stderr",
     "output_type": "stream",
     "text": [
      "2024/12/20 23:27:48 WARNING mlflow.models.model: Model logged without a signature and input example. Please set `input_example` parameter when logging the model to auto infer the model signature.\n"
     ]
    },
    {
     "name": "stdout",
     "output_type": "stream",
     "text": [
      "🏃 View run Regresion Logistica 3 at: http://127.0.0.1:5000/#/experiments/540558041363907411/runs/2bfbaaeddc38435081f18dd90142ef2b\n",
      "🧪 View experiment at: http://127.0.0.1:5000/#/experiments/540558041363907411\n"
     ]
    }
   ],
   "source": [
    "with mlflow.start_run(run_name=\"Regresion Logistica 3\"):\n",
    "    lr_model_3 = LogisticRegression(penalty='l1', C=0.5, solver='saga', max_iter=1000, multi_class='multinomial').fit(x_features, y_target)\n",
    "    y_preds_lr_3 = lr_model_3.predict(df_features_test)\n",
    "    acc_lr_3 = accuracy_score(y_target_test, y_preds_lr_3)\n",
    "    print(acc_lr_3)\n",
    "    params_lr_3 = dict(penalty='l1', C=0.5, solver='saga', max_iter=1000, multi_class='multinomial')\n",
    "    model_accuracies[\"Regresion Logistica 3\"] = acc_lr_3\n",
    "    mlflow.log_params(params_lr_3)\n",
    "    mlflow.log_metric(\"accuracy score - Regresion Logistica 3:\", acc_lr_3)\n",
    "    mlflow.sklearn.log_model(lr_model_3, \"Logistic Regression 3\")"
   ]
  },
  {
   "cell_type": "code",
   "execution_count": 19,
   "metadata": {},
   "outputs": [
    {
     "name": "stdout",
     "output_type": "stream",
     "text": [
      "0.38485804416403785\n"
     ]
    },
    {
     "name": "stderr",
     "output_type": "stream",
     "text": [
      "2024/12/20 23:27:52 WARNING mlflow.models.model: Model logged without a signature and input example. Please set `input_example` parameter when logging the model to auto infer the model signature.\n"
     ]
    },
    {
     "name": "stdout",
     "output_type": "stream",
     "text": [
      "🏃 View run Naive Bayes 1 at: http://127.0.0.1:5000/#/experiments/540558041363907411/runs/e6dd1f5de3bf4a5d8415229c577a9806\n",
      "🧪 View experiment at: http://127.0.0.1:5000/#/experiments/540558041363907411\n"
     ]
    }
   ],
   "source": [
    "with mlflow.start_run(run_name=\"Naive Bayes 1\"):\n",
    "    nb_model_1 = MultinomialNB(alpha=0.5, fit_prior=True).fit(x_features, y_target)\n",
    "    y_preds_nb = nb_model_1.predict(df_features_test)\n",
    "    acc_nb_1 = accuracy_score(y_target_test, y_preds_nb)\n",
    "    print(acc_nb_1)\n",
    "    params_vals_nb = dict(alpha=0.5, fit_prior=True)\n",
    "    model_accuracies[\"Naive Bayes 1\"] = acc_nb_1\n",
    "    mlflow.log_params(params_vals_nb)\n",
    "    mlflow.log_metric(\"accuracy score - Naive Bayes 1:\", acc_nb_1)\n",
    "    mlflow.sklearn.log_model(nb_model_1, \"Naive Bayes model 1\")"
   ]
  },
  {
   "cell_type": "code",
   "execution_count": 20,
   "metadata": {},
   "outputs": [
    {
     "name": "stdout",
     "output_type": "stream",
     "text": [
      "0.38485804416403785\n"
     ]
    },
    {
     "name": "stderr",
     "output_type": "stream",
     "text": [
      "2024/12/20 23:27:56 WARNING mlflow.models.model: Model logged without a signature and input example. Please set `input_example` parameter when logging the model to auto infer the model signature.\n"
     ]
    },
    {
     "name": "stdout",
     "output_type": "stream",
     "text": [
      "🏃 View run Naive Bayes 2 at: http://127.0.0.1:5000/#/experiments/540558041363907411/runs/17cbbb4fd55348b0b6a96a3b3430fde6\n",
      "🧪 View experiment at: http://127.0.0.1:5000/#/experiments/540558041363907411\n"
     ]
    }
   ],
   "source": [
    "with mlflow.start_run(run_name=\"Naive Bayes 2\"):\n",
    "    nb_model_2 = MultinomialNB(alpha=1.0, fit_prior=True).fit(x_features, y_target)\n",
    "    y_preds_nb2 = nb_model_2.predict(df_features_test)\n",
    "    acc_nb_2 = accuracy_score(y_target_test, y_preds_nb2)\n",
    "    print(acc_nb_2)\n",
    "    params_vals_nb2 = dict(alpha=1.0, fit_prior=True)\n",
    "    model_accuracies[\"Naive Bayes 2\"] = acc_nb_2\n",
    "    mlflow.log_params(params_vals_nb2)\n",
    "    mlflow.log_metric(\"accuracy score - Naive Bayes 2:\", acc_nb_2)\n",
    "    mlflow.sklearn.log_model(nb_model_2, \"Naive Bayes model 2\")"
   ]
  },
  {
   "cell_type": "code",
   "execution_count": 21,
   "metadata": {},
   "outputs": [
    {
     "name": "stdout",
     "output_type": "stream",
     "text": [
      "0.4747634069400631\n"
     ]
    },
    {
     "name": "stderr",
     "output_type": "stream",
     "text": [
      "2024/12/20 23:28:06 WARNING mlflow.models.model: Model logged without a signature and input example. Please set `input_example` parameter when logging the model to auto infer the model signature.\n"
     ]
    },
    {
     "name": "stdout",
     "output_type": "stream",
     "text": [
      "🏃 View run Naive Bayes 3 at: http://127.0.0.1:5000/#/experiments/540558041363907411/runs/bd4c4c8c26044ffa9a1f018def4ca861\n",
      "🧪 View experiment at: http://127.0.0.1:5000/#/experiments/540558041363907411\n"
     ]
    }
   ],
   "source": [
    "with mlflow.start_run(run_name=\"Naive Bayes 3\"):\n",
    "    nb_model_3 = MultinomialNB(alpha=1.5, fit_prior=False).fit(x_features, y_target)\n",
    "    y_preds_nb3 = nb_model_3.predict(df_features_test)\n",
    "    acc_nb_3 = accuracy_score(y_target_test, y_preds_nb3)\n",
    "    print(acc_nb_3)\n",
    "    params_vals_nb3 = dict(alpha=1.5, fit_prior=False)\n",
    "    model_accuracies[\"Naive Bayes 3\"] = acc_nb_3\n",
    "    mlflow.log_params(params_vals_nb3)\n",
    "    mlflow.log_metric(\"accuracy score - Naive Bayes 3:\", acc_nb_3)\n",
    "    mlflow.sklearn.log_model(nb_model_3, \"Naive Bayes model 3\")"
   ]
  },
  {
   "cell_type": "code",
   "execution_count": 22,
   "metadata": {},
   "outputs": [
    {
     "name": "stdout",
     "output_type": "stream",
     "text": [
      "0.8832807570977917\n"
     ]
    },
    {
     "name": "stderr",
     "output_type": "stream",
     "text": [
      "2024/12/20 23:28:16 WARNING mlflow.models.model: Model logged without a signature and input example. Please set `input_example` parameter when logging the model to auto infer the model signature.\n"
     ]
    },
    {
     "name": "stdout",
     "output_type": "stream",
     "text": [
      "🏃 View run LDA 1 at: http://127.0.0.1:5000/#/experiments/540558041363907411/runs/3d096a7fa7ce4974a2d7d162af4a3f58\n",
      "🧪 View experiment at: http://127.0.0.1:5000/#/experiments/540558041363907411\n"
     ]
    }
   ],
   "source": [
    "with mlflow.start_run(run_name=\"LDA 1\"):\n",
    "    lda_model_1 = LinearDiscriminantAnalysis(solver='svd').fit(x_features, y_target)\n",
    "    y_preds_lda = lda_model_1.predict(df_features_test)\n",
    "    acc_lda_1 = accuracy_score(y_target_test, y_preds_lda)\n",
    "    print(acc_lda_1)\n",
    "    params_vals_lda = dict(solver='svd')\n",
    "    model_accuracies[\"LDA 1\"] = acc_lda_1\n",
    "    mlflow.log_params(params_vals_lda)\n",
    "    mlflow.log_metric(\"accuracy score - LDA 1:\", acc_lda_1)\n",
    "    mlflow.sklearn.log_model(lda_model_1, \"LDA model 1\")"
   ]
  },
  {
   "cell_type": "code",
   "execution_count": 23,
   "metadata": {},
   "outputs": [
    {
     "name": "stdout",
     "output_type": "stream",
     "text": [
      "0.8485804416403786\n"
     ]
    },
    {
     "name": "stderr",
     "output_type": "stream",
     "text": [
      "2024/12/20 23:28:26 WARNING mlflow.models.model: Model logged without a signature and input example. Please set `input_example` parameter when logging the model to auto infer the model signature.\n"
     ]
    },
    {
     "name": "stdout",
     "output_type": "stream",
     "text": [
      "🏃 View run LDA 2 at: http://127.0.0.1:5000/#/experiments/540558041363907411/runs/87a50bfabe0a46ae8bdac163151fedf0\n",
      "🧪 View experiment at: http://127.0.0.1:5000/#/experiments/540558041363907411\n"
     ]
    }
   ],
   "source": [
    "with mlflow.start_run(run_name=\"LDA 2\"):\n",
    "    lda_model_2 = LinearDiscriminantAnalysis(solver='lsqr', shrinkage='auto').fit(x_features, y_target)\n",
    "    y_preds_lda2 = lda_model_2.predict(df_features_test)\n",
    "    acc_lda_2 = accuracy_score(y_target_test, y_preds_lda2)\n",
    "    print(acc_lda_2)\n",
    "    params_vals_lda2 = dict(solver='lsqr', shrinkage='auto')\n",
    "    model_accuracies[\"LDA 2\"] = acc_lda_2\n",
    "    mlflow.log_params(params_vals_lda2)\n",
    "    mlflow.log_metric(\"accuracy score - LDA 2:\", acc_lda_2)\n",
    "    mlflow.sklearn.log_model(lda_model_2, \"LDA model 2\")"
   ]
  },
  {
   "cell_type": "code",
   "execution_count": 24,
   "metadata": {},
   "outputs": [
    {
     "name": "stdout",
     "output_type": "stream",
     "text": [
      "0.6309148264984227\n"
     ]
    },
    {
     "name": "stderr",
     "output_type": "stream",
     "text": [
      "2024/12/20 23:28:33 WARNING mlflow.models.model: Model logged without a signature and input example. Please set `input_example` parameter when logging the model to auto infer the model signature.\n"
     ]
    },
    {
     "name": "stdout",
     "output_type": "stream",
     "text": [
      "🏃 View run LDA 3 at: http://127.0.0.1:5000/#/experiments/540558041363907411/runs/b0902682b0c94727b005b9fce528d3b4\n",
      "🧪 View experiment at: http://127.0.0.1:5000/#/experiments/540558041363907411\n"
     ]
    }
   ],
   "source": [
    "with mlflow.start_run(run_name=\"LDA 3\"):\n",
    "    lda_model_3 = LinearDiscriminantAnalysis(solver='lsqr', shrinkage=0.5).fit(x_features, y_target)\n",
    "    y_preds_lda3 = lda_model_3.predict(df_features_test)\n",
    "    acc_lda_3 = accuracy_score(y_target_test, y_preds_lda3)\n",
    "    print(acc_lda_3)\n",
    "    params_vals_lda3 = dict(solver='lsqr', shrinkage=0.5)\n",
    "    model_accuracies[\"LDA 3\"] = acc_lda_3\n",
    "    mlflow.log_params(params_vals_lda3)\n",
    "    mlflow.log_metric(\"accuracy score - LDA 3:\", acc_lda_3)\n",
    "    mlflow.sklearn.log_model(lda_model_3, \"LDA model 3\")"
   ]
  },
  {
   "cell_type": "code",
   "execution_count": 25,
   "metadata": {},
   "outputs": [
    {
     "name": "stdout",
     "output_type": "stream",
     "text": [
      "El modelo con mayor accuracy es: Random Forest Model 1 con un accuracy de 0.9338\n"
     ]
    }
   ],
   "source": [
    "#Identificar el modelo con mejor accuracy\n",
    "best_model_name = max(model_accuracies, key=model_accuracies.get)\n",
    "best_accuracy = model_accuracies[best_model_name]\n",
    "print(f\"El modelo con mayor accuracy es: {best_model_name} con un accuracy de {best_accuracy:.4f}\")"
   ]
  },
  {
   "cell_type": "code",
   "execution_count": 26,
   "metadata": {},
   "outputs": [],
   "source": [
    "#Agregando el modelo ganador al pipeline\n",
    "if best_model_name == \"Random Forest Model 1\":\n",
    "    obesity_predict_model_pipeline.steps.append(\n",
    "        ('modelo_random_forest 1', RandomForestClassifier(n_estimators=200, criterion='gini'))\n",
    "    )\n",
    "elif best_model_name == \"Random Forest Model 2\":\n",
    "    obesity_predict_model_pipeline.steps.append(\n",
    "        ('modelo_random_forest 2', RandomForestClassifier(n_estimators=100, criterion='entropy', max_depth=15, min_samples_split=10))\n",
    "    )\n",
    "elif best_model_name == \"Random Forest Model 3\":\n",
    "    obesity_predict_model_pipeline.steps.append(\n",
    "        ('modelo_random_forest 3', RandomForestClassifier(n_estimators=150, criterion='gini', max_depth=None, min_samples_leaf=5))\n",
    "    )\n",
    "\n",
    "elif best_model_name == \"SVM 1\":\n",
    "    obesity_predict_model_pipeline.steps.append(\n",
    "        ('modelo_svm 1', SVC(C=1.0, kernel='linear'))\n",
    "    )\n",
    "elif best_model_name == \"SVM 2\":\n",
    "    obesity_predict_model_pipeline.steps.append(\n",
    "        ('modelo_svm 2', SVC(C=1.0, kernel='poly', degree=3, gamma='scale'))\n",
    "    )\n",
    "elif best_model_name == \"SVM 3\":\n",
    "    obesity_predict_model_pipeline.steps.append(\n",
    "        ('modelo_svm 3', SVC(C=1.0, kernel='rbf', gamma='scale'))\n",
    "    )\n",
    "\n",
    "elif best_model_name == \"Regresion Logistica 1\":\n",
    "    obesity_predict_model_pipeline.steps.append(\n",
    "        ('modelo_regresion_logistica 1', LogisticRegression())\n",
    "    )\n",
    "elif best_model_name == \"Regresion Logistica 2\":\n",
    "    obesity_predict_model_pipeline.steps.append(\n",
    "        ('modelo_regresion_logistica 2', LogisticRegression(penalty='l2', C=1.0, solver='lbfgs', max_iter=1000, multi_class='multinomial'))\n",
    "    )\n",
    "elif best_model_name == \"Regresion Logistica 3\":\n",
    "    obesity_predict_model_pipeline.steps.append(\n",
    "        ('modelo_regresion_logistica 3', LogisticRegression(penalty='l1', C=0.5, solver='saga', max_iter=1000, multi_class='multinomial'))\n",
    "    )\n",
    "\n",
    "elif best_model_name == \"Naive Bayes 1\":\n",
    "    obesity_predict_model_pipeline.steps.append(\n",
    "        ('modelo_naive_bayes 1', MultinomialNB(alpha=0.5, fit_prior=True))\n",
    "    )\n",
    "elif best_model_name == \"Naive Bayes 2\":\n",
    "    obesity_predict_model_pipeline.steps.append(\n",
    "        ('modelo_naive_bayes 2', MultinomialNB(alpha=1.0, fit_prior=True))\n",
    "    )\n",
    "elif best_model_name == \"Naive Bayes 3\":\n",
    "    obesity_predict_model_pipeline.steps.append(\n",
    "        ('modelo_naive_bayes 3', MultinomialNB(alpha=1.5, fit_prior=False))\n",
    "    )\n",
    "\n",
    "\n",
    "elif best_model_name == \"LDA 1\":\n",
    "    obesity_predict_model_pipeline.steps.append(\n",
    "        ('modelo_lda 1', LinearDiscriminantAnalysis(solver='svd'))\n",
    "    )\n",
    "elif best_model_name == \"LDA 2\":\n",
    "    obesity_predict_model_pipeline.steps.append(\n",
    "        ('modelo_lda 2', LinearDiscriminantAnalysis(solver='lsqr', shrinkage='auto'))\n",
    "    )\n",
    "elif best_model_name == \"LDA 3\":\n",
    "    obesity_predict_model_pipeline.steps.append(\n",
    "        ('modelo_lda 3', LinearDiscriminantAnalysis(solver='lsqr', shrinkage=0.5))\n",
    "    )"
   ]
  },
  {
   "cell_type": "code",
   "execution_count": 27,
   "metadata": {},
   "outputs": [
    {
     "data": {
      "text/html": [
       "<style>#sk-container-id-1 {\n",
       "  /* Definition of color scheme common for light and dark mode */\n",
       "  --sklearn-color-text: black;\n",
       "  --sklearn-color-line: gray;\n",
       "  /* Definition of color scheme for unfitted estimators */\n",
       "  --sklearn-color-unfitted-level-0: #fff5e6;\n",
       "  --sklearn-color-unfitted-level-1: #f6e4d2;\n",
       "  --sklearn-color-unfitted-level-2: #ffe0b3;\n",
       "  --sklearn-color-unfitted-level-3: chocolate;\n",
       "  /* Definition of color scheme for fitted estimators */\n",
       "  --sklearn-color-fitted-level-0: #f0f8ff;\n",
       "  --sklearn-color-fitted-level-1: #d4ebff;\n",
       "  --sklearn-color-fitted-level-2: #b3dbfd;\n",
       "  --sklearn-color-fitted-level-3: cornflowerblue;\n",
       "\n",
       "  /* Specific color for light theme */\n",
       "  --sklearn-color-text-on-default-background: var(--sg-text-color, var(--theme-code-foreground, var(--jp-content-font-color1, black)));\n",
       "  --sklearn-color-background: var(--sg-background-color, var(--theme-background, var(--jp-layout-color0, white)));\n",
       "  --sklearn-color-border-box: var(--sg-text-color, var(--theme-code-foreground, var(--jp-content-font-color1, black)));\n",
       "  --sklearn-color-icon: #696969;\n",
       "\n",
       "  @media (prefers-color-scheme: dark) {\n",
       "    /* Redefinition of color scheme for dark theme */\n",
       "    --sklearn-color-text-on-default-background: var(--sg-text-color, var(--theme-code-foreground, var(--jp-content-font-color1, white)));\n",
       "    --sklearn-color-background: var(--sg-background-color, var(--theme-background, var(--jp-layout-color0, #111)));\n",
       "    --sklearn-color-border-box: var(--sg-text-color, var(--theme-code-foreground, var(--jp-content-font-color1, white)));\n",
       "    --sklearn-color-icon: #878787;\n",
       "  }\n",
       "}\n",
       "\n",
       "#sk-container-id-1 {\n",
       "  color: var(--sklearn-color-text);\n",
       "}\n",
       "\n",
       "#sk-container-id-1 pre {\n",
       "  padding: 0;\n",
       "}\n",
       "\n",
       "#sk-container-id-1 input.sk-hidden--visually {\n",
       "  border: 0;\n",
       "  clip: rect(1px 1px 1px 1px);\n",
       "  clip: rect(1px, 1px, 1px, 1px);\n",
       "  height: 1px;\n",
       "  margin: -1px;\n",
       "  overflow: hidden;\n",
       "  padding: 0;\n",
       "  position: absolute;\n",
       "  width: 1px;\n",
       "}\n",
       "\n",
       "#sk-container-id-1 div.sk-dashed-wrapped {\n",
       "  border: 1px dashed var(--sklearn-color-line);\n",
       "  margin: 0 0.4em 0.5em 0.4em;\n",
       "  box-sizing: border-box;\n",
       "  padding-bottom: 0.4em;\n",
       "  background-color: var(--sklearn-color-background);\n",
       "}\n",
       "\n",
       "#sk-container-id-1 div.sk-container {\n",
       "  /* jupyter's `normalize.less` sets `[hidden] { display: none; }`\n",
       "     but bootstrap.min.css set `[hidden] { display: none !important; }`\n",
       "     so we also need the `!important` here to be able to override the\n",
       "     default hidden behavior on the sphinx rendered scikit-learn.org.\n",
       "     See: https://github.com/scikit-learn/scikit-learn/issues/21755 */\n",
       "  display: inline-block !important;\n",
       "  position: relative;\n",
       "}\n",
       "\n",
       "#sk-container-id-1 div.sk-text-repr-fallback {\n",
       "  display: none;\n",
       "}\n",
       "\n",
       "div.sk-parallel-item,\n",
       "div.sk-serial,\n",
       "div.sk-item {\n",
       "  /* draw centered vertical line to link estimators */\n",
       "  background-image: linear-gradient(var(--sklearn-color-text-on-default-background), var(--sklearn-color-text-on-default-background));\n",
       "  background-size: 2px 100%;\n",
       "  background-repeat: no-repeat;\n",
       "  background-position: center center;\n",
       "}\n",
       "\n",
       "/* Parallel-specific style estimator block */\n",
       "\n",
       "#sk-container-id-1 div.sk-parallel-item::after {\n",
       "  content: \"\";\n",
       "  width: 100%;\n",
       "  border-bottom: 2px solid var(--sklearn-color-text-on-default-background);\n",
       "  flex-grow: 1;\n",
       "}\n",
       "\n",
       "#sk-container-id-1 div.sk-parallel {\n",
       "  display: flex;\n",
       "  align-items: stretch;\n",
       "  justify-content: center;\n",
       "  background-color: var(--sklearn-color-background);\n",
       "  position: relative;\n",
       "}\n",
       "\n",
       "#sk-container-id-1 div.sk-parallel-item {\n",
       "  display: flex;\n",
       "  flex-direction: column;\n",
       "}\n",
       "\n",
       "#sk-container-id-1 div.sk-parallel-item:first-child::after {\n",
       "  align-self: flex-end;\n",
       "  width: 50%;\n",
       "}\n",
       "\n",
       "#sk-container-id-1 div.sk-parallel-item:last-child::after {\n",
       "  align-self: flex-start;\n",
       "  width: 50%;\n",
       "}\n",
       "\n",
       "#sk-container-id-1 div.sk-parallel-item:only-child::after {\n",
       "  width: 0;\n",
       "}\n",
       "\n",
       "/* Serial-specific style estimator block */\n",
       "\n",
       "#sk-container-id-1 div.sk-serial {\n",
       "  display: flex;\n",
       "  flex-direction: column;\n",
       "  align-items: center;\n",
       "  background-color: var(--sklearn-color-background);\n",
       "  padding-right: 1em;\n",
       "  padding-left: 1em;\n",
       "}\n",
       "\n",
       "\n",
       "/* Toggleable style: style used for estimator/Pipeline/ColumnTransformer box that is\n",
       "clickable and can be expanded/collapsed.\n",
       "- Pipeline and ColumnTransformer use this feature and define the default style\n",
       "- Estimators will overwrite some part of the style using the `sk-estimator` class\n",
       "*/\n",
       "\n",
       "/* Pipeline and ColumnTransformer style (default) */\n",
       "\n",
       "#sk-container-id-1 div.sk-toggleable {\n",
       "  /* Default theme specific background. It is overwritten whether we have a\n",
       "  specific estimator or a Pipeline/ColumnTransformer */\n",
       "  background-color: var(--sklearn-color-background);\n",
       "}\n",
       "\n",
       "/* Toggleable label */\n",
       "#sk-container-id-1 label.sk-toggleable__label {\n",
       "  cursor: pointer;\n",
       "  display: block;\n",
       "  width: 100%;\n",
       "  margin-bottom: 0;\n",
       "  padding: 0.5em;\n",
       "  box-sizing: border-box;\n",
       "  text-align: center;\n",
       "}\n",
       "\n",
       "#sk-container-id-1 label.sk-toggleable__label-arrow:before {\n",
       "  /* Arrow on the left of the label */\n",
       "  content: \"▸\";\n",
       "  float: left;\n",
       "  margin-right: 0.25em;\n",
       "  color: var(--sklearn-color-icon);\n",
       "}\n",
       "\n",
       "#sk-container-id-1 label.sk-toggleable__label-arrow:hover:before {\n",
       "  color: var(--sklearn-color-text);\n",
       "}\n",
       "\n",
       "/* Toggleable content - dropdown */\n",
       "\n",
       "#sk-container-id-1 div.sk-toggleable__content {\n",
       "  max-height: 0;\n",
       "  max-width: 0;\n",
       "  overflow: hidden;\n",
       "  text-align: left;\n",
       "  /* unfitted */\n",
       "  background-color: var(--sklearn-color-unfitted-level-0);\n",
       "}\n",
       "\n",
       "#sk-container-id-1 div.sk-toggleable__content.fitted {\n",
       "  /* fitted */\n",
       "  background-color: var(--sklearn-color-fitted-level-0);\n",
       "}\n",
       "\n",
       "#sk-container-id-1 div.sk-toggleable__content pre {\n",
       "  margin: 0.2em;\n",
       "  border-radius: 0.25em;\n",
       "  color: var(--sklearn-color-text);\n",
       "  /* unfitted */\n",
       "  background-color: var(--sklearn-color-unfitted-level-0);\n",
       "}\n",
       "\n",
       "#sk-container-id-1 div.sk-toggleable__content.fitted pre {\n",
       "  /* unfitted */\n",
       "  background-color: var(--sklearn-color-fitted-level-0);\n",
       "}\n",
       "\n",
       "#sk-container-id-1 input.sk-toggleable__control:checked~div.sk-toggleable__content {\n",
       "  /* Expand drop-down */\n",
       "  max-height: 200px;\n",
       "  max-width: 100%;\n",
       "  overflow: auto;\n",
       "}\n",
       "\n",
       "#sk-container-id-1 input.sk-toggleable__control:checked~label.sk-toggleable__label-arrow:before {\n",
       "  content: \"▾\";\n",
       "}\n",
       "\n",
       "/* Pipeline/ColumnTransformer-specific style */\n",
       "\n",
       "#sk-container-id-1 div.sk-label input.sk-toggleable__control:checked~label.sk-toggleable__label {\n",
       "  color: var(--sklearn-color-text);\n",
       "  background-color: var(--sklearn-color-unfitted-level-2);\n",
       "}\n",
       "\n",
       "#sk-container-id-1 div.sk-label.fitted input.sk-toggleable__control:checked~label.sk-toggleable__label {\n",
       "  background-color: var(--sklearn-color-fitted-level-2);\n",
       "}\n",
       "\n",
       "/* Estimator-specific style */\n",
       "\n",
       "/* Colorize estimator box */\n",
       "#sk-container-id-1 div.sk-estimator input.sk-toggleable__control:checked~label.sk-toggleable__label {\n",
       "  /* unfitted */\n",
       "  background-color: var(--sklearn-color-unfitted-level-2);\n",
       "}\n",
       "\n",
       "#sk-container-id-1 div.sk-estimator.fitted input.sk-toggleable__control:checked~label.sk-toggleable__label {\n",
       "  /* fitted */\n",
       "  background-color: var(--sklearn-color-fitted-level-2);\n",
       "}\n",
       "\n",
       "#sk-container-id-1 div.sk-label label.sk-toggleable__label,\n",
       "#sk-container-id-1 div.sk-label label {\n",
       "  /* The background is the default theme color */\n",
       "  color: var(--sklearn-color-text-on-default-background);\n",
       "}\n",
       "\n",
       "/* On hover, darken the color of the background */\n",
       "#sk-container-id-1 div.sk-label:hover label.sk-toggleable__label {\n",
       "  color: var(--sklearn-color-text);\n",
       "  background-color: var(--sklearn-color-unfitted-level-2);\n",
       "}\n",
       "\n",
       "/* Label box, darken color on hover, fitted */\n",
       "#sk-container-id-1 div.sk-label.fitted:hover label.sk-toggleable__label.fitted {\n",
       "  color: var(--sklearn-color-text);\n",
       "  background-color: var(--sklearn-color-fitted-level-2);\n",
       "}\n",
       "\n",
       "/* Estimator label */\n",
       "\n",
       "#sk-container-id-1 div.sk-label label {\n",
       "  font-family: monospace;\n",
       "  font-weight: bold;\n",
       "  display: inline-block;\n",
       "  line-height: 1.2em;\n",
       "}\n",
       "\n",
       "#sk-container-id-1 div.sk-label-container {\n",
       "  text-align: center;\n",
       "}\n",
       "\n",
       "/* Estimator-specific */\n",
       "#sk-container-id-1 div.sk-estimator {\n",
       "  font-family: monospace;\n",
       "  border: 1px dotted var(--sklearn-color-border-box);\n",
       "  border-radius: 0.25em;\n",
       "  box-sizing: border-box;\n",
       "  margin-bottom: 0.5em;\n",
       "  /* unfitted */\n",
       "  background-color: var(--sklearn-color-unfitted-level-0);\n",
       "}\n",
       "\n",
       "#sk-container-id-1 div.sk-estimator.fitted {\n",
       "  /* fitted */\n",
       "  background-color: var(--sklearn-color-fitted-level-0);\n",
       "}\n",
       "\n",
       "/* on hover */\n",
       "#sk-container-id-1 div.sk-estimator:hover {\n",
       "  /* unfitted */\n",
       "  background-color: var(--sklearn-color-unfitted-level-2);\n",
       "}\n",
       "\n",
       "#sk-container-id-1 div.sk-estimator.fitted:hover {\n",
       "  /* fitted */\n",
       "  background-color: var(--sklearn-color-fitted-level-2);\n",
       "}\n",
       "\n",
       "/* Specification for estimator info (e.g. \"i\" and \"?\") */\n",
       "\n",
       "/* Common style for \"i\" and \"?\" */\n",
       "\n",
       ".sk-estimator-doc-link,\n",
       "a:link.sk-estimator-doc-link,\n",
       "a:visited.sk-estimator-doc-link {\n",
       "  float: right;\n",
       "  font-size: smaller;\n",
       "  line-height: 1em;\n",
       "  font-family: monospace;\n",
       "  background-color: var(--sklearn-color-background);\n",
       "  border-radius: 1em;\n",
       "  height: 1em;\n",
       "  width: 1em;\n",
       "  text-decoration: none !important;\n",
       "  margin-left: 1ex;\n",
       "  /* unfitted */\n",
       "  border: var(--sklearn-color-unfitted-level-1) 1pt solid;\n",
       "  color: var(--sklearn-color-unfitted-level-1);\n",
       "}\n",
       "\n",
       ".sk-estimator-doc-link.fitted,\n",
       "a:link.sk-estimator-doc-link.fitted,\n",
       "a:visited.sk-estimator-doc-link.fitted {\n",
       "  /* fitted */\n",
       "  border: var(--sklearn-color-fitted-level-1) 1pt solid;\n",
       "  color: var(--sklearn-color-fitted-level-1);\n",
       "}\n",
       "\n",
       "/* On hover */\n",
       "div.sk-estimator:hover .sk-estimator-doc-link:hover,\n",
       ".sk-estimator-doc-link:hover,\n",
       "div.sk-label-container:hover .sk-estimator-doc-link:hover,\n",
       ".sk-estimator-doc-link:hover {\n",
       "  /* unfitted */\n",
       "  background-color: var(--sklearn-color-unfitted-level-3);\n",
       "  color: var(--sklearn-color-background);\n",
       "  text-decoration: none;\n",
       "}\n",
       "\n",
       "div.sk-estimator.fitted:hover .sk-estimator-doc-link.fitted:hover,\n",
       ".sk-estimator-doc-link.fitted:hover,\n",
       "div.sk-label-container:hover .sk-estimator-doc-link.fitted:hover,\n",
       ".sk-estimator-doc-link.fitted:hover {\n",
       "  /* fitted */\n",
       "  background-color: var(--sklearn-color-fitted-level-3);\n",
       "  color: var(--sklearn-color-background);\n",
       "  text-decoration: none;\n",
       "}\n",
       "\n",
       "/* Span, style for the box shown on hovering the info icon */\n",
       ".sk-estimator-doc-link span {\n",
       "  display: none;\n",
       "  z-index: 9999;\n",
       "  position: relative;\n",
       "  font-weight: normal;\n",
       "  right: .2ex;\n",
       "  padding: .5ex;\n",
       "  margin: .5ex;\n",
       "  width: min-content;\n",
       "  min-width: 20ex;\n",
       "  max-width: 50ex;\n",
       "  color: var(--sklearn-color-text);\n",
       "  box-shadow: 2pt 2pt 4pt #999;\n",
       "  /* unfitted */\n",
       "  background: var(--sklearn-color-unfitted-level-0);\n",
       "  border: .5pt solid var(--sklearn-color-unfitted-level-3);\n",
       "}\n",
       "\n",
       ".sk-estimator-doc-link.fitted span {\n",
       "  /* fitted */\n",
       "  background: var(--sklearn-color-fitted-level-0);\n",
       "  border: var(--sklearn-color-fitted-level-3);\n",
       "}\n",
       "\n",
       ".sk-estimator-doc-link:hover span {\n",
       "  display: block;\n",
       "}\n",
       "\n",
       "/* \"?\"-specific style due to the `<a>` HTML tag */\n",
       "\n",
       "#sk-container-id-1 a.estimator_doc_link {\n",
       "  float: right;\n",
       "  font-size: 1rem;\n",
       "  line-height: 1em;\n",
       "  font-family: monospace;\n",
       "  background-color: var(--sklearn-color-background);\n",
       "  border-radius: 1rem;\n",
       "  height: 1rem;\n",
       "  width: 1rem;\n",
       "  text-decoration: none;\n",
       "  /* unfitted */\n",
       "  color: var(--sklearn-color-unfitted-level-1);\n",
       "  border: var(--sklearn-color-unfitted-level-1) 1pt solid;\n",
       "}\n",
       "\n",
       "#sk-container-id-1 a.estimator_doc_link.fitted {\n",
       "  /* fitted */\n",
       "  border: var(--sklearn-color-fitted-level-1) 1pt solid;\n",
       "  color: var(--sklearn-color-fitted-level-1);\n",
       "}\n",
       "\n",
       "/* On hover */\n",
       "#sk-container-id-1 a.estimator_doc_link:hover {\n",
       "  /* unfitted */\n",
       "  background-color: var(--sklearn-color-unfitted-level-3);\n",
       "  color: var(--sklearn-color-background);\n",
       "  text-decoration: none;\n",
       "}\n",
       "\n",
       "#sk-container-id-1 a.estimator_doc_link.fitted:hover {\n",
       "  /* fitted */\n",
       "  background-color: var(--sklearn-color-fitted-level-3);\n",
       "}\n",
       "</style><div id=\"sk-container-id-1\" class=\"sk-top-container\"><div class=\"sk-text-repr-fallback\"><pre>Pipeline(steps=[(&#x27;continues_var_imputation&#x27;,\n",
       "                 MeanMedianImputer(imputation_method=&#x27;mean&#x27;,\n",
       "                                   variables=[&#x27;Age&#x27;, &#x27;Weight&#x27;, &#x27;NCP&#x27;, &#x27;FAF&#x27;])),\n",
       "                (&#x27;categorical_var_imputation&#x27;,\n",
       "                 CategoricalImputer(imputation_method=&#x27;frequent&#x27;,\n",
       "                                    variables=[&#x27;Gender&#x27;, &#x27;FAVC&#x27;, &#x27;MTRANS&#x27;])),\n",
       "                (&#x27;categorical_encode_frequency&#x27;,\n",
       "                 CountFrequencyEncoder(variables=[&#x27;Gender&#x27;, &#x27;CALC&#x27;, &#x27;FAVC&#x27;,\n",
       "                                                  &#x27;SCC&#x27;, &#x27;SMOKE&#x27;,\n",
       "                                                  &#x27;fa...\n",
       "                                                  &#x27;CAEC&#x27;, &#x27;MTRANS&#x27;])),\n",
       "                (&#x27;continues_var_outliers&#x27;,\n",
       "                 Winsorizer(capping_method=&#x27;iqr&#x27;,\n",
       "                            variables=[&#x27;Age&#x27;, &#x27;Height&#x27;, &#x27;Weight&#x27;, &#x27;FCVC&#x27;, &#x27;NCP&#x27;,\n",
       "                                       &#x27;CH2O&#x27;, &#x27;FAF&#x27;, &#x27;TUE&#x27;])),\n",
       "                (&#x27;continues_var_transform&#x27;,\n",
       "                 LogTransformer(variables=[&#x27;Age&#x27;, &#x27;Height&#x27;, &#x27;Weight&#x27;, &#x27;FCVC&#x27;,\n",
       "                                           &#x27;NCP&#x27;, &#x27;CH2O&#x27;])),\n",
       "                (&#x27;feature_scaling&#x27;, MinMaxScaler()),\n",
       "                (&#x27;modelo_random_forest 1&#x27;,\n",
       "                 RandomForestClassifier(n_estimators=200))])</pre><b>In a Jupyter environment, please rerun this cell to show the HTML representation or trust the notebook. <br />On GitHub, the HTML representation is unable to render, please try loading this page with nbviewer.org.</b></div><div class=\"sk-container\" hidden><div class=\"sk-item sk-dashed-wrapped\"><div class=\"sk-label-container\"><div class=\"sk-label  sk-toggleable\"><input class=\"sk-toggleable__control sk-hidden--visually\" id=\"sk-estimator-id-1\" type=\"checkbox\" ><label for=\"sk-estimator-id-1\" class=\"sk-toggleable__label  sk-toggleable__label-arrow \">&nbsp;&nbsp;Pipeline<a class=\"sk-estimator-doc-link \" rel=\"noreferrer\" target=\"_blank\" href=\"https://scikit-learn.org/1.5/modules/generated/sklearn.pipeline.Pipeline.html\">?<span>Documentation for Pipeline</span></a><span class=\"sk-estimator-doc-link \">i<span>Not fitted</span></span></label><div class=\"sk-toggleable__content \"><pre>Pipeline(steps=[(&#x27;continues_var_imputation&#x27;,\n",
       "                 MeanMedianImputer(imputation_method=&#x27;mean&#x27;,\n",
       "                                   variables=[&#x27;Age&#x27;, &#x27;Weight&#x27;, &#x27;NCP&#x27;, &#x27;FAF&#x27;])),\n",
       "                (&#x27;categorical_var_imputation&#x27;,\n",
       "                 CategoricalImputer(imputation_method=&#x27;frequent&#x27;,\n",
       "                                    variables=[&#x27;Gender&#x27;, &#x27;FAVC&#x27;, &#x27;MTRANS&#x27;])),\n",
       "                (&#x27;categorical_encode_frequency&#x27;,\n",
       "                 CountFrequencyEncoder(variables=[&#x27;Gender&#x27;, &#x27;CALC&#x27;, &#x27;FAVC&#x27;,\n",
       "                                                  &#x27;SCC&#x27;, &#x27;SMOKE&#x27;,\n",
       "                                                  &#x27;fa...\n",
       "                                                  &#x27;CAEC&#x27;, &#x27;MTRANS&#x27;])),\n",
       "                (&#x27;continues_var_outliers&#x27;,\n",
       "                 Winsorizer(capping_method=&#x27;iqr&#x27;,\n",
       "                            variables=[&#x27;Age&#x27;, &#x27;Height&#x27;, &#x27;Weight&#x27;, &#x27;FCVC&#x27;, &#x27;NCP&#x27;,\n",
       "                                       &#x27;CH2O&#x27;, &#x27;FAF&#x27;, &#x27;TUE&#x27;])),\n",
       "                (&#x27;continues_var_transform&#x27;,\n",
       "                 LogTransformer(variables=[&#x27;Age&#x27;, &#x27;Height&#x27;, &#x27;Weight&#x27;, &#x27;FCVC&#x27;,\n",
       "                                           &#x27;NCP&#x27;, &#x27;CH2O&#x27;])),\n",
       "                (&#x27;feature_scaling&#x27;, MinMaxScaler()),\n",
       "                (&#x27;modelo_random_forest 1&#x27;,\n",
       "                 RandomForestClassifier(n_estimators=200))])</pre></div> </div></div><div class=\"sk-serial\"><div class=\"sk-item\"><div class=\"sk-estimator  sk-toggleable\"><input class=\"sk-toggleable__control sk-hidden--visually\" id=\"sk-estimator-id-2\" type=\"checkbox\" ><label for=\"sk-estimator-id-2\" class=\"sk-toggleable__label  sk-toggleable__label-arrow \">MeanMedianImputer</label><div class=\"sk-toggleable__content \"><pre>MeanMedianImputer(imputation_method=&#x27;mean&#x27;,\n",
       "                  variables=[&#x27;Age&#x27;, &#x27;Weight&#x27;, &#x27;NCP&#x27;, &#x27;FAF&#x27;])</pre></div> </div></div><div class=\"sk-item\"><div class=\"sk-estimator  sk-toggleable\"><input class=\"sk-toggleable__control sk-hidden--visually\" id=\"sk-estimator-id-3\" type=\"checkbox\" ><label for=\"sk-estimator-id-3\" class=\"sk-toggleable__label  sk-toggleable__label-arrow \">CategoricalImputer</label><div class=\"sk-toggleable__content \"><pre>CategoricalImputer(imputation_method=&#x27;frequent&#x27;,\n",
       "                   variables=[&#x27;Gender&#x27;, &#x27;FAVC&#x27;, &#x27;MTRANS&#x27;])</pre></div> </div></div><div class=\"sk-item\"><div class=\"sk-estimator  sk-toggleable\"><input class=\"sk-toggleable__control sk-hidden--visually\" id=\"sk-estimator-id-4\" type=\"checkbox\" ><label for=\"sk-estimator-id-4\" class=\"sk-toggleable__label  sk-toggleable__label-arrow \">CountFrequencyEncoder</label><div class=\"sk-toggleable__content \"><pre>CountFrequencyEncoder(variables=[&#x27;Gender&#x27;, &#x27;CALC&#x27;, &#x27;FAVC&#x27;, &#x27;SCC&#x27;, &#x27;SMOKE&#x27;,\n",
       "                                 &#x27;family_history_with_overweight&#x27;, &#x27;CAEC&#x27;,\n",
       "                                 &#x27;MTRANS&#x27;])</pre></div> </div></div><div class=\"sk-item\"><div class=\"sk-estimator  sk-toggleable\"><input class=\"sk-toggleable__control sk-hidden--visually\" id=\"sk-estimator-id-5\" type=\"checkbox\" ><label for=\"sk-estimator-id-5\" class=\"sk-toggleable__label  sk-toggleable__label-arrow \">Winsorizer</label><div class=\"sk-toggleable__content \"><pre>Winsorizer(capping_method=&#x27;iqr&#x27;,\n",
       "           variables=[&#x27;Age&#x27;, &#x27;Height&#x27;, &#x27;Weight&#x27;, &#x27;FCVC&#x27;, &#x27;NCP&#x27;, &#x27;CH2O&#x27;, &#x27;FAF&#x27;,\n",
       "                      &#x27;TUE&#x27;])</pre></div> </div></div><div class=\"sk-item\"><div class=\"sk-estimator  sk-toggleable\"><input class=\"sk-toggleable__control sk-hidden--visually\" id=\"sk-estimator-id-6\" type=\"checkbox\" ><label for=\"sk-estimator-id-6\" class=\"sk-toggleable__label  sk-toggleable__label-arrow \">LogTransformer</label><div class=\"sk-toggleable__content \"><pre>LogTransformer(variables=[&#x27;Age&#x27;, &#x27;Height&#x27;, &#x27;Weight&#x27;, &#x27;FCVC&#x27;, &#x27;NCP&#x27;, &#x27;CH2O&#x27;])</pre></div> </div></div><div class=\"sk-item\"><div class=\"sk-estimator  sk-toggleable\"><input class=\"sk-toggleable__control sk-hidden--visually\" id=\"sk-estimator-id-7\" type=\"checkbox\" ><label for=\"sk-estimator-id-7\" class=\"sk-toggleable__label  sk-toggleable__label-arrow \">&nbsp;MinMaxScaler<a class=\"sk-estimator-doc-link \" rel=\"noreferrer\" target=\"_blank\" href=\"https://scikit-learn.org/1.5/modules/generated/sklearn.preprocessing.MinMaxScaler.html\">?<span>Documentation for MinMaxScaler</span></a></label><div class=\"sk-toggleable__content \"><pre>MinMaxScaler()</pre></div> </div></div><div class=\"sk-item\"><div class=\"sk-estimator  sk-toggleable\"><input class=\"sk-toggleable__control sk-hidden--visually\" id=\"sk-estimator-id-8\" type=\"checkbox\" ><label for=\"sk-estimator-id-8\" class=\"sk-toggleable__label  sk-toggleable__label-arrow \">&nbsp;RandomForestClassifier<a class=\"sk-estimator-doc-link \" rel=\"noreferrer\" target=\"_blank\" href=\"https://scikit-learn.org/1.5/modules/generated/sklearn.ensemble.RandomForestClassifier.html\">?<span>Documentation for RandomForestClassifier</span></a></label><div class=\"sk-toggleable__content \"><pre>RandomForestClassifier(n_estimators=200)</pre></div> </div></div></div></div></div></div>"
      ],
      "text/plain": [
       "Pipeline(steps=[('continues_var_imputation',\n",
       "                 MeanMedianImputer(imputation_method='mean',\n",
       "                                   variables=['Age', 'Weight', 'NCP', 'FAF'])),\n",
       "                ('categorical_var_imputation',\n",
       "                 CategoricalImputer(imputation_method='frequent',\n",
       "                                    variables=['Gender', 'FAVC', 'MTRANS'])),\n",
       "                ('categorical_encode_frequency',\n",
       "                 CountFrequencyEncoder(variables=['Gender', 'CALC', 'FAVC',\n",
       "                                                  'SCC', 'SMOKE',\n",
       "                                                  'fa...\n",
       "                                                  'CAEC', 'MTRANS'])),\n",
       "                ('continues_var_outliers',\n",
       "                 Winsorizer(capping_method='iqr',\n",
       "                            variables=['Age', 'Height', 'Weight', 'FCVC', 'NCP',\n",
       "                                       'CH2O', 'FAF', 'TUE'])),\n",
       "                ('continues_var_transform',\n",
       "                 LogTransformer(variables=['Age', 'Height', 'Weight', 'FCVC',\n",
       "                                           'NCP', 'CH2O'])),\n",
       "                ('feature_scaling', MinMaxScaler()),\n",
       "                ('modelo_random_forest 1',\n",
       "                 RandomForestClassifier(n_estimators=200))])"
      ]
     },
     "execution_count": 27,
     "metadata": {},
     "output_type": "execute_result"
    }
   ],
   "source": [
    "obesity_predict_model_pipeline"
   ]
  },
  {
   "cell_type": "code",
   "execution_count": 28,
   "metadata": {},
   "outputs": [],
   "source": [
    "with open('../artifacts/pipeline_final.pkl', 'wb') as f:\n",
    "    pickle.dump(obesity_predict_model_pipeline, f)"
   ]
  }
 ],
 "metadata": {
  "kernelspec": {
   "display_name": "venv-churning-model",
   "language": "python",
   "name": "python3"
  },
  "language_info": {
   "codemirror_mode": {
    "name": "ipython",
    "version": 3
   },
   "file_extension": ".py",
   "mimetype": "text/x-python",
   "name": "python",
   "nbconvert_exporter": "python",
   "pygments_lexer": "ipython3",
   "version": "3.13.0"
  }
 },
 "nbformat": 4,
 "nbformat_minor": 2
}
