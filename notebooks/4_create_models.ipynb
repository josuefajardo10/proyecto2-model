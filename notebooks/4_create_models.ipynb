{
 "cells": [
  {
   "cell_type": "code",
   "execution_count": 1,
   "metadata": {},
   "outputs": [],
   "source": [
    "import pandas as pd\n",
    "import numpy as np\n",
    "import matplotlib.pyplot as plt\n",
    "import seaborn as sns\n",
    "import scipy.stats as stats"
   ]
  },
  {
   "cell_type": "code",
   "execution_count": 10,
   "metadata": {},
   "outputs": [],
   "source": [
    "# Importar librerias para los modelos\n",
    "from sklearn.linear_model import LogisticRegression\n",
    "from sklearn.naive_bayes import MultinomialNB \n",
    "from sklearn.ensemble import RandomForestClassifier \n",
    "from sklearn.discriminant_analysis import LinearDiscriminantAnalysis\n",
    "from sklearn.svm import SVC \n",
    " \n",
    "#Importar metricas\n",
    "from sklearn.metrics import accuracy_score\n",
    "\n",
    "#Gestion train-test\n",
    "from sklearn.model_selection import train_test_split\n",
    "\n",
    "#Transformaciones\n",
    "from sklearn.preprocessing import MinMaxScaler\n",
    "from sklearn.preprocessing import LabelEncoder"
   ]
  },
  {
   "cell_type": "code",
   "execution_count": 11,
   "metadata": {},
   "outputs": [
    {
     "data": {
      "text/html": [
       "<div>\n",
       "<style scoped>\n",
       "    .dataframe tbody tr th:only-of-type {\n",
       "        vertical-align: middle;\n",
       "    }\n",
       "\n",
       "    .dataframe tbody tr th {\n",
       "        vertical-align: top;\n",
       "    }\n",
       "\n",
       "    .dataframe thead th {\n",
       "        text-align: right;\n",
       "    }\n",
       "</style>\n",
       "<table border=\"1\" class=\"dataframe\">\n",
       "  <thead>\n",
       "    <tr style=\"text-align: right;\">\n",
       "      <th></th>\n",
       "      <th>Age</th>\n",
       "      <th>Gender</th>\n",
       "      <th>Height</th>\n",
       "      <th>Weight</th>\n",
       "      <th>CALC</th>\n",
       "      <th>FAVC</th>\n",
       "      <th>FCVC</th>\n",
       "      <th>NCP</th>\n",
       "      <th>SCC</th>\n",
       "      <th>SMOKE</th>\n",
       "      <th>CH2O</th>\n",
       "      <th>family_history_with_overweight</th>\n",
       "      <th>FAF</th>\n",
       "      <th>TUE</th>\n",
       "      <th>CAEC</th>\n",
       "      <th>MTRANS</th>\n",
       "      <th>NObeyesdad</th>\n",
       "    </tr>\n",
       "  </thead>\n",
       "  <tbody>\n",
       "    <tr>\n",
       "      <th>0</th>\n",
       "      <td>3.044522</td>\n",
       "      <td>283</td>\n",
       "      <td>0.482426</td>\n",
       "      <td>4.158883</td>\n",
       "      <td>639</td>\n",
       "      <td>238</td>\n",
       "      <td>0.693147</td>\n",
       "      <td>0.987476</td>\n",
       "      <td>2015</td>\n",
       "      <td>2067</td>\n",
       "      <td>0.693147</td>\n",
       "      <td>1726</td>\n",
       "      <td>1.003579</td>\n",
       "      <td>1.0</td>\n",
       "      <td>1765</td>\n",
       "      <td>1495</td>\n",
       "      <td>287</td>\n",
       "    </tr>\n",
       "    <tr>\n",
       "      <th>1</th>\n",
       "      <td>3.044522</td>\n",
       "      <td>912</td>\n",
       "      <td>0.418710</td>\n",
       "      <td>4.025352</td>\n",
       "      <td>1401</td>\n",
       "      <td>238</td>\n",
       "      <td>1.098612</td>\n",
       "      <td>1.098612</td>\n",
       "      <td>96</td>\n",
       "      <td>44</td>\n",
       "      <td>1.098612</td>\n",
       "      <td>1726</td>\n",
       "      <td>3.000000</td>\n",
       "      <td>0.0</td>\n",
       "      <td>1765</td>\n",
       "      <td>1495</td>\n",
       "      <td>287</td>\n",
       "    </tr>\n",
       "    <tr>\n",
       "      <th>2</th>\n",
       "      <td>3.135494</td>\n",
       "      <td>916</td>\n",
       "      <td>0.587787</td>\n",
       "      <td>4.343805</td>\n",
       "      <td>70</td>\n",
       "      <td>238</td>\n",
       "      <td>0.693147</td>\n",
       "      <td>1.098612</td>\n",
       "      <td>2015</td>\n",
       "      <td>2067</td>\n",
       "      <td>0.693147</td>\n",
       "      <td>1726</td>\n",
       "      <td>2.000000</td>\n",
       "      <td>1.0</td>\n",
       "      <td>1765</td>\n",
       "      <td>1495</td>\n",
       "      <td>287</td>\n",
       "    </tr>\n",
       "    <tr>\n",
       "      <th>3</th>\n",
       "      <td>3.295837</td>\n",
       "      <td>283</td>\n",
       "      <td>0.587787</td>\n",
       "      <td>4.465908</td>\n",
       "      <td>70</td>\n",
       "      <td>238</td>\n",
       "      <td>1.098612</td>\n",
       "      <td>0.987476</td>\n",
       "      <td>2015</td>\n",
       "      <td>2067</td>\n",
       "      <td>0.693147</td>\n",
       "      <td>385</td>\n",
       "      <td>1.003579</td>\n",
       "      <td>0.0</td>\n",
       "      <td>1765</td>\n",
       "      <td>55</td>\n",
       "      <td>290</td>\n",
       "    </tr>\n",
       "    <tr>\n",
       "      <th>4</th>\n",
       "      <td>3.091042</td>\n",
       "      <td>916</td>\n",
       "      <td>0.576613</td>\n",
       "      <td>4.497585</td>\n",
       "      <td>1401</td>\n",
       "      <td>238</td>\n",
       "      <td>0.693147</td>\n",
       "      <td>0.793502</td>\n",
       "      <td>2015</td>\n",
       "      <td>2067</td>\n",
       "      <td>0.693147</td>\n",
       "      <td>385</td>\n",
       "      <td>0.000000</td>\n",
       "      <td>0.0</td>\n",
       "      <td>1765</td>\n",
       "      <td>1495</td>\n",
       "      <td>290</td>\n",
       "    </tr>\n",
       "  </tbody>\n",
       "</table>\n",
       "</div>"
      ],
      "text/plain": [
       "        Age  Gender    Height    Weight  CALC  FAVC      FCVC       NCP   SCC  \\\n",
       "0  3.044522     283  0.482426  4.158883   639   238  0.693147  0.987476  2015   \n",
       "1  3.044522     912  0.418710  4.025352  1401   238  1.098612  1.098612    96   \n",
       "2  3.135494     916  0.587787  4.343805    70   238  0.693147  1.098612  2015   \n",
       "3  3.295837     283  0.587787  4.465908    70   238  1.098612  0.987476  2015   \n",
       "4  3.091042     916  0.576613  4.497585  1401   238  0.693147  0.793502  2015   \n",
       "\n",
       "   SMOKE      CH2O  family_history_with_overweight       FAF  TUE  CAEC  \\\n",
       "0   2067  0.693147                            1726  1.003579  1.0  1765   \n",
       "1     44  1.098612                            1726  3.000000  0.0  1765   \n",
       "2   2067  0.693147                            1726  2.000000  1.0  1765   \n",
       "3   2067  0.693147                             385  1.003579  0.0  1765   \n",
       "4   2067  0.693147                             385  0.000000  0.0  1765   \n",
       "\n",
       "   MTRANS  NObeyesdad  \n",
       "0    1495         287  \n",
       "1    1495         287  \n",
       "2    1495         287  \n",
       "3      55         290  \n",
       "4    1495         290  "
      ]
     },
     "execution_count": 11,
     "metadata": {},
     "output_type": "execute_result"
    }
   ],
   "source": [
    "proyecto_data_dos = pd.read_csv('../data/processed/features_for_model.csv')\n",
    "proyecto_data_dos.head()"
   ]
  },
  {
   "cell_type": "markdown",
   "metadata": {},
   "source": [
    "### 5. Construcción de los modelos"
   ]
  },
  {
   "cell_type": "code",
   "execution_count": 12,
   "metadata": {},
   "outputs": [],
   "source": [
    "#Seleccionar el target (y) y features (x)\n",
    "\n",
    "X = proyecto_data_dos.drop('NObeyesdad', axis=1)\n",
    "y = proyecto_data_dos['NObeyesdad']"
   ]
  },
  {
   "cell_type": "code",
   "execution_count": 13,
   "metadata": {},
   "outputs": [],
   "source": [
    "#split para train y test\n",
    "x_train, x_test, y_train, y_test = train_test_split(X, y, test_size=0.3, random_state=2025, shuffle=True)"
   ]
  },
  {
   "cell_type": "code",
   "execution_count": 14,
   "metadata": {},
   "outputs": [],
   "source": [
    "#Creamos el scaler, ultimo paso de la ingenieria\n",
    "\n",
    "scaler = MinMaxScaler()\n",
    "scaler.fit(x_train)\n",
    "x_train_scaled = scaler.transform(x_train)\n",
    "x_test_scaled = scaler.transform(x_test)\n"
   ]
  },
  {
   "cell_type": "markdown",
   "metadata": {},
   "source": [
    "#### 5.1. Naive Bayes"
   ]
  },
  {
   "cell_type": "code",
   "execution_count": 15,
   "metadata": {},
   "outputs": [
    {
     "name": "stdout",
     "output_type": "stream",
     "text": [
      "   Modelo  Accuracy\n",
      "0  model3  0.479495\n",
      "1  model1  0.268139\n",
      "2  model2  0.268139\n"
     ]
    }
   ],
   "source": [
    "#Configuracion de hiperparametros\n",
    "resultados_nb =[]\n",
    "\n",
    "model1_nb = MultinomialNB(alpha=0.5, fit_prior=True)\n",
    "model2_nb = MultinomialNB(alpha=1.0, fit_prior=True)\n",
    "model3_nb = MultinomialNB(alpha=1.5, fit_prior=False)\n",
    "\n",
    "models_nb = [model1_nb, model2_nb, model3_nb]\n",
    "\n",
    "for i, model in enumerate(models_nb):\n",
    "    model.fit(x_train_scaled, y_train)\n",
    "    nb_predicts = model.predict(x_test_scaled)\n",
    "\n",
    "    accuracy = accuracy_score(y_test, nb_predicts)\n",
    "    resultados_nb.append({'Modelo': f'model{i+1}', 'Accuracy': accuracy})\n",
    "\n",
    "\n",
    "df_resultados = pd.DataFrame(resultados_nb).sort_values(by='Accuracy', ascending= False, ignore_index= True)\n",
    "print(df_resultados)"
   ]
  },
  {
   "cell_type": "markdown",
   "metadata": {},
   "source": [
    "#### 5.2. LDA - Análisis de Discriminante Lineal"
   ]
  },
  {
   "cell_type": "code",
   "execution_count": 16,
   "metadata": {},
   "outputs": [
    {
     "name": "stdout",
     "output_type": "stream",
     "text": [
      "   Modelo  Accuracy\n",
      "0  model1  0.875394\n",
      "1  model2  0.835962\n",
      "2  model3  0.588328\n"
     ]
    }
   ],
   "source": [
    "#Configuracion de hiperparametros\n",
    "resultados_lda=[]\n",
    "\n",
    "model1_lda = LinearDiscriminantAnalysis(solver='svd')\n",
    "model2_lda = LinearDiscriminantAnalysis(solver='lsqr', shrinkage='auto')\n",
    "model3_lda = LinearDiscriminantAnalysis(solver='lsqr', shrinkage=0.5)\n",
    "\n",
    "models_lda = [model1_lda, model2_lda, model3_lda]\n",
    "\n",
    "for i, model in enumerate(models_lda):\n",
    "    model.fit(x_train_scaled, y_train)\n",
    "    lda_predicts = model.predict(x_test_scaled)\n",
    "    \n",
    "    accuracy = accuracy_score(y_test, lda_predicts)\n",
    "    resultados_lda.append({'Modelo': f'model{i+1}', 'Accuracy': accuracy})\n",
    "\n",
    "\n",
    "df_resultados = pd.DataFrame(resultados_lda).sort_values(by='Accuracy', ascending= False, ignore_index= True)\n",
    "print(df_resultados)"
   ]
  },
  {
   "cell_type": "markdown",
   "metadata": {},
   "source": [
    "#### 5.3. Regresión Logística"
   ]
  },
  {
   "cell_type": "code",
   "execution_count": 17,
   "metadata": {},
   "outputs": [
    {
     "name": "stderr",
     "output_type": "stream",
     "text": [
      "/Users/macbookair/anaconda3/envs/venv-bank-churning/lib/python3.13/site-packages/sklearn/linear_model/_logistic.py:1247: FutureWarning: 'multi_class' was deprecated in version 1.5 and will be removed in 1.7. From then on, it will always use 'multinomial'. Leave it to its default value to avoid this warning.\n",
      "  warnings.warn(\n",
      "/Users/macbookair/anaconda3/envs/venv-bank-churning/lib/python3.13/site-packages/sklearn/linear_model/_logistic.py:1247: FutureWarning: 'multi_class' was deprecated in version 1.5 and will be removed in 1.7. From then on, it will always use 'multinomial'. Leave it to its default value to avoid this warning.\n",
      "  warnings.warn(\n",
      "/Users/macbookair/anaconda3/envs/venv-bank-churning/lib/python3.13/site-packages/sklearn/linear_model/_logistic.py:1247: FutureWarning: 'multi_class' was deprecated in version 1.5 and will be removed in 1.7. From then on, it will always use 'multinomial'. Leave it to its default value to avoid this warning.\n",
      "  warnings.warn(\n"
     ]
    },
    {
     "name": "stdout",
     "output_type": "stream",
     "text": [
      "   Modelo  Accuracy\n",
      "0  model2  0.821767\n",
      "1  model3  0.749211\n",
      "2  model1  0.708202\n"
     ]
    }
   ],
   "source": [
    "#Configuracion de hiperparametros\n",
    "resultados_lg=[]\n",
    "\n",
    "model1_lg = LogisticRegression(penalty='l2', C=1.0, solver='lbfgs', max_iter=1000, multi_class='multinomial')\n",
    "model2_lg = LogisticRegression(penalty='l1', C=0.5, solver='saga', max_iter=1000, multi_class='multinomial')\n",
    "model3_lg = LogisticRegression(penalty='elasticnet', C=1.0, solver='saga', l1_ratio=0.5, max_iter=1000, multi_class='multinomial')\n",
    "\n",
    "models_lg = [model1_lg, model2_lg, model3_lg]\n",
    "\n",
    "for i, model in enumerate(models_lg):\n",
    "    model.fit(x_train_scaled, y_train)\n",
    "    predicts_lg = model.predict(x_test_scaled)\n",
    "\n",
    "    accuracy = accuracy_score(y_test, predicts_lg)\n",
    "    resultados_lg.append({'Modelo': f'model{i+1}', 'Accuracy': accuracy})\n",
    "\n",
    "\n",
    "df_resultados = pd.DataFrame(resultados_lg).sort_values(by='Accuracy', ascending= False, ignore_index= True)\n",
    "print(df_resultados)"
   ]
  },
  {
   "cell_type": "markdown",
   "metadata": {},
   "source": [
    "#### 5.4. SVM"
   ]
  },
  {
   "cell_type": "code",
   "execution_count": 18,
   "metadata": {},
   "outputs": [
    {
     "name": "stdout",
     "output_type": "stream",
     "text": [
      "   Modelo  Accuracy\n",
      "0  model2  0.908517\n",
      "1  model1  0.859621\n",
      "2  model3  0.824921\n"
     ]
    }
   ],
   "source": [
    "#Configuracion de hiperparametros\n",
    "resultados_svm=[]\n",
    "\n",
    "model1_SVM = SVC(C=1.0, kernel='linear')\n",
    "model2_SVM = SVC(C=1.0, kernel='poly', degree=3, gamma='scale')\n",
    "model3_SVM = SVC(C=1.0, kernel='rbf', gamma='scale')\n",
    "\n",
    "models_SVM = [model1_SVM, model2_SVM, model3_SVM]\n",
    "\n",
    "for i, model in enumerate(models_SVM):\n",
    "    model.fit(x_train_scaled, y_train)\n",
    "    predicts_SVM = model.predict(x_test_scaled)\n",
    "    \n",
    "    accuracy = accuracy_score(y_test, predicts_SVM)\n",
    "    resultados_svm.append({'Modelo': f'model{i+1}', 'Accuracy': accuracy})\n",
    "\n",
    "\n",
    "df_resultados = pd.DataFrame(resultados_svm).sort_values(by='Accuracy', ascending= False, ignore_index= True)\n",
    "print(df_resultados)"
   ]
  },
  {
   "cell_type": "markdown",
   "metadata": {},
   "source": [
    "#### 5.5. Random Forest"
   ]
  },
  {
   "cell_type": "code",
   "execution_count": 19,
   "metadata": {},
   "outputs": [
    {
     "name": "stdout",
     "output_type": "stream",
     "text": [
      "   Modelo  Accuracy\n",
      "0  model2  0.925868\n",
      "1  model3  0.914826\n",
      "2  model1  0.903785\n"
     ]
    }
   ],
   "source": [
    "#Configuracion de hiperparametros\n",
    "resultados_rf=[]\n",
    "\n",
    "model1_rf = RandomForestClassifier(n_estimators=50, criterion='gini', max_depth=10)\n",
    "model2_rf = RandomForestClassifier(n_estimators=100, criterion='entropy', max_depth=15, min_samples_split=10)\n",
    "model3_rf = RandomForestClassifier(n_estimators=150, criterion='gini', max_depth=None, min_samples_leaf=5)\n",
    "\n",
    "models_rf = [model1_rf, model2_rf, model3_rf]\n",
    "\n",
    "for i, model in enumerate(models_rf):\n",
    "    model.fit(x_train_scaled, y_train)\n",
    "    predicts_rf = model.predict(x_test_scaled)\n",
    "    \n",
    "    accuracy = accuracy_score(y_test, predicts_rf)\n",
    "    resultados_rf.append({'Modelo': f'model{i+1}', 'Accuracy': accuracy})\n",
    "\n",
    "\n",
    "df_resultados = pd.DataFrame(resultados_rf).sort_values(by='Accuracy', ascending= False, ignore_index= True)\n",
    "print(df_resultados)"
   ]
  }
 ],
 "metadata": {
  "kernelspec": {
   "display_name": "base",
   "language": "python",
   "name": "python3"
  },
  "language_info": {
   "codemirror_mode": {
    "name": "ipython",
    "version": 3
   },
   "file_extension": ".py",
   "mimetype": "text/x-python",
   "name": "python",
   "nbconvert_exporter": "python",
   "pygments_lexer": "ipython3",
   "version": "3.13.0"
  }
 },
 "nbformat": 4,
 "nbformat_minor": 2
}
